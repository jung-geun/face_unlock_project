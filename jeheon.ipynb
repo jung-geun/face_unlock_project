{
 "cells": [
  {
   "cell_type": "code",
   "execution_count": 7,
   "id": "b4b1e349",
   "metadata": {},
   "outputs": [],
   "source": [
    "from deepface import DeepFace"
   ]
  },
  {
   "cell_type": "code",
   "execution_count": 5,
   "id": "dbbdee2c",
   "metadata": {
    "scrolled": true
   },
   "outputs": [
    {
     "ename": "NameError",
     "evalue": "name 'DeepFace' is not defined",
     "output_type": "error",
     "traceback": [
      "\u001b[0;31m---------------------------------------------------------------------------\u001b[0m",
      "\u001b[0;31mNameError\u001b[0m                                 Traceback (most recent call last)",
      "Input \u001b[0;32mIn [5]\u001b[0m, in \u001b[0;36m<cell line: 4>\u001b[0;34m()\u001b[0m\n\u001b[1;32m      3\u001b[0m \u001b[38;5;66;03m#face verification\u001b[39;00m\n\u001b[1;32m      4\u001b[0m \u001b[38;5;28;01mfor\u001b[39;00m i \u001b[38;5;129;01min\u001b[39;00m models:\n\u001b[0;32m----> 5\u001b[0m     result \u001b[38;5;241m=\u001b[39m \u001b[43mDeepFace\u001b[49m\u001b[38;5;241m.\u001b[39mverify(img1_path \u001b[38;5;241m=\u001b[39m \u001b[38;5;124m\"\u001b[39m\u001b[38;5;124mdataset/img1.jpg\u001b[39m\u001b[38;5;124m\"\u001b[39m, img2_path \u001b[38;5;241m=\u001b[39m \u001b[38;5;124m\"\u001b[39m\u001b[38;5;124mdataset/img2.jpg\u001b[39m\u001b[38;5;124m\"\u001b[39m, model_name \u001b[38;5;241m=\u001b[39m \u001b[38;5;28mstr\u001b[39m(i))\n\u001b[1;32m      6\u001b[0m     data_list\u001b[38;5;241m.\u001b[39mappend(result)\n",
      "\u001b[0;31mNameError\u001b[0m: name 'DeepFace' is not defined"
     ]
    }
   ],
   "source": [
    "models = [\"VGG-Face\", \"Facenet\", \"Facenet512\", \"OpenFace\", \"DeepFace\", \"DeepID\", \"ArcFace\", \"Dlib\", \"SFace\"]\n",
    "data_list=[]\n",
    "#face verification\n",
    "for i in models:\n",
    "    result = DeepFace.verify(img1_path = \"dataset/img1.jpg\", img2_path = \"dataset/img2.jpg\", model_name = str(i))\n",
    "    data_list.append(result)\n",
    "\n",
    "#face recognition\n",
    "# df = DeepFace.find(img_path = \"img1.jpg\", db_path = \"C:/workspace/my_db\", model_name = models[1])\n",
    "# result = DeepFace.verify(img1_path = \"dataset/img1.jpg\", img2_path = \"dataset/img2.jpg\")\n"
   ]
  },
  {
   "cell_type": "code",
   "execution_count": 13,
   "id": "402d0014",
   "metadata": {},
   "outputs": [
    {
     "name": "stdout",
     "output_type": "stream",
     "text": [
      "True\n",
      "0.25551898252856886\n",
      "VGG-Face\n",
      "cosine\n",
      "True\n",
      "0.24257000434949372\n",
      "Facenet\n",
      "cosine\n",
      "True\n",
      "0.23241929613111934\n",
      "Facenet512\n",
      "cosine\n",
      "False\n",
      "0.1588145009913854\n",
      "OpenFace\n",
      "cosine\n",
      "False\n",
      "0.2418076678216512\n",
      "DeepFace\n",
      "cosine\n",
      "False\n",
      "0.046182783961631224\n",
      "DeepID\n",
      "cosine\n",
      "True\n",
      "0.49398614447764455\n",
      "ArcFace\n",
      "cosine\n"
     ]
    }
   ],
   "source": [
    "for data in data_list:\n",
    "    print(data['verified'])\n",
    "    print(data['distance'])\n",
    "    print(data['model'])\n",
    "    print(data['similarity_metric'])"
   ]
  },
  {
   "cell_type": "code",
   "execution_count": 15,
   "id": "d82a0ccb",
   "metadata": {},
   "outputs": [
    {
     "name": "stderr",
     "output_type": "stream",
     "text": [
      "Action: age:   0%|                                                                                | 0/4 [00:00<?, ?it/s]"
     ]
    },
    {
     "name": "stdout",
     "output_type": "stream",
     "text": [
      "1/1 [==============================] - 0s 82ms/step\n"
     ]
    },
    {
     "name": "stderr",
     "output_type": "stream",
     "text": [
      "Action: gender:  25%|█████████████████▎                                                   | 1/4 [00:00<00:00,  3.28it/s]"
     ]
    },
    {
     "name": "stdout",
     "output_type": "stream",
     "text": [
      "1/1 [==============================] - 0s 81ms/step\n"
     ]
    },
    {
     "name": "stderr",
     "output_type": "stream",
     "text": [
      "\r",
      "Action: race:  25%|█████████████████▊                                                     | 1/4 [00:00<00:00,  3.28it/s]"
     ]
    },
    {
     "name": "stdout",
     "output_type": "stream",
     "text": [
      "1/1 [==============================] - 0s 81ms/step\n"
     ]
    },
    {
     "name": "stderr",
     "output_type": "stream",
     "text": [
      "Action: emotion:  75%|███████████████████████████████████████████████████                 | 3/4 [00:00<00:00,  6.65it/s]"
     ]
    },
    {
     "name": "stdout",
     "output_type": "stream",
     "text": [
      "1/1 [==============================] - 0s 10ms/step\n"
     ]
    },
    {
     "name": "stderr",
     "output_type": "stream",
     "text": [
      "Action: emotion: 100%|████████████████████████████████████████████████████████████████████| 4/4 [00:00<00:00,  5.48it/s]"
     ]
    },
    {
     "name": "stdout",
     "output_type": "stream",
     "text": [
      "{'age': 34, 'region': {'x': 705, 'y': 220, 'w': 530, 'h': 530}, 'gender': 'Man', 'race': {'asian': 2.4095972182319474e-20, 'indian': 2.5816345691871207e-18, 'black': 6.187926506395164e-23, 'white': 100.0, 'middle eastern': 7.341591778953216e-08, 'latino hispanic': 8.050744515486485e-08}, 'dominant_race': 'white', 'emotion': {'angry': 2.7166269719600677, 'disgust': 0.03421803703531623, 'fear': 60.86261868476868, 'happy': 0.37526204250752926, 'sad': 9.915153682231903, 'surprise': 0.18645310774445534, 'neutral': 25.90966820716858}, 'dominant_emotion': 'fear'}\n"
     ]
    },
    {
     "name": "stderr",
     "output_type": "stream",
     "text": [
      "\n"
     ]
    }
   ],
   "source": [
    "obj = DeepFace.analyze(img_path = \"dataset/img13.jpg\", actions = ['age', 'gender', 'race', 'emotion'])\n",
    "print(obj)"
   ]
  },
  {
   "cell_type": "code",
   "execution_count": null,
   "id": "5f5fc45d",
   "metadata": {},
   "outputs": [],
   "source": []
  }
 ],
 "metadata": {
  "kernelspec": {
   "display_name": "Python 3 (ipykernel)",
   "language": "python",
   "name": "python3"
  },
  "language_info": {
   "codemirror_mode": {
    "name": "ipython",
    "version": 3
   },
   "file_extension": ".py",
   "mimetype": "text/x-python",
   "name": "python",
   "nbconvert_exporter": "python",
   "pygments_lexer": "ipython3",
   "version": "3.9.12"
  }
 },
 "nbformat": 4,
 "nbformat_minor": 5
}
