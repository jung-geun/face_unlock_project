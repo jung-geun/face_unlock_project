{
 "cells": [
  {
   "cell_type": "code",
   "execution_count": 12,
   "id": "b954cec6-2b7e-4205-820b-dd3678a04563",
   "metadata": {},
   "outputs": [],
   "source": [
    "import numpy as np\n",
    "import cv2 as cv"
   ]
  },
  {
   "cell_type": "code",
   "execution_count": null,
   "id": "1204f1ed-32ee-4d88-8ef7-cc0223b83566",
   "metadata": {},
   "outputs": [],
   "source": [
    "# 카메라 연결 "
   ]
  },
  {
   "cell_type": "code",
   "execution_count": 13,
   "id": "8ed39dce-8bc4-4330-aa0c-ebed0201ab49",
   "metadata": {},
   "outputs": [
    {
     "name": "stdout",
     "output_type": "stream",
     "text": [
      "camera error!!\n"
     ]
    }
   ],
   "source": [
    "try:\n",
    "    cap = cv.VideoCapture(0)\n",
    "    if not cap.isOpened():\n",
    "        print(\"Cannot open camera\")\n",
    "        exit()\n",
    "    while True:\n",
    "        # Capture frame-by-frame\n",
    "        ret, frame = cap.read()\n",
    "        # if frame is read correctly ret is True\n",
    "        if not ret:\n",
    "            print(\"Can't receive frame (stream end?). Exiting ...\")\n",
    "            break\n",
    "        # Our operations on the frame come here\n",
    "        gray = cv.cvtColor(frame, cv.COLOR_BGR2GRAY)\n",
    "        # Display the resulting frame\n",
    "        cv.imshow('frame', gray)\n",
    "        if cv.waitKey(1) == ord('q'):\n",
    "            break\n",
    "    # When everything done, release the capture\n",
    "    cap.release()\n",
    "    cv.destroyAllWindows()\n",
    "except:\n",
    "    pass\n",
    "    print(\"camera error!!\")\n",
    "else:\n",
    "    print(\"No Error!\")"
   ]
  },
  {
   "cell_type": "code",
   "execution_count": null,
   "id": "34fc6b88-42a6-46d1-b210-3184922e8788",
   "metadata": {},
   "outputs": [],
   "source": []
  }
 ],
 "metadata": {
  "kernelspec": {
   "display_name": "face",
   "language": "python",
   "name": "face"
  },
  "language_info": {
   "codemirror_mode": {
    "name": "ipython",
    "version": 3
   },
   "file_extension": ".py",
   "mimetype": "text/x-python",
   "name": "python",
   "nbconvert_exporter": "python",
   "pygments_lexer": "ipython3",
   "version": "3.9.12"
  },
  "widgets": {
   "application/vnd.jupyter.widget-state+json": {
    "state": {},
    "version_major": 2,
    "version_minor": 0
   }
  }
 },
 "nbformat": 4,
 "nbformat_minor": 5
}
